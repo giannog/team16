{
  "cells": [
    {
      "cell_type": "markdown",
      "metadata": {
        "id": "_yV-sF-XP7zt"
      },
      "source": [
        "# AI project team 16\n",
        "Implementing the Vision Transformer (ViT) model for American Sign Language (ASL) image classification.\n",
        "\n",
        "Dataset: Sign Language MNIST.\n",
        "\n",
        "The code are partially based on the [ViT model](https://keras.io/examples/vision/image_classification_with_vision_transformer/) on keras.\n",
        "[ViT](https://arxiv.org/abs/2010.11929)\n",
        "are proposed by Alexey Dosovitskiy et al. for image classification, which applies the Transformer architecture with self-attention to sequences of\n",
        "image patches, without using convolution layers."
      ]
    },
    {
      "cell_type": "markdown",
      "metadata": {
        "id": "BF4CNEXQP7zu"
      },
      "source": [
        "## Setup"
      ]
    },
    {
      "cell_type": "code",
      "execution_count": 13,
      "metadata": {
        "id": "4kbsoSO0P7zu",
        "colab": {
          "base_uri": "https://localhost:8080/"
        },
        "outputId": "a20b81d9-91ee-4242-870a-09165fe804d9"
      },
      "outputs": [
        {
          "output_type": "stream",
          "name": "stdout",
          "text": [
            "Requirement already satisfied: tensorflow-addons in /usr/local/lib/python3.7/dist-packages (0.16.1)\n",
            "Requirement already satisfied: typeguard>=2.7 in /usr/local/lib/python3.7/dist-packages (from tensorflow-addons) (2.7.1)\n"
          ]
        }
      ],
      "source": [
        "import numpy as np\n",
        "import tensorflow as tf\n",
        "from tensorflow import keras\n",
        "from tensorflow.keras import layers\n",
        "!pip install -U tensorflow-addons\n",
        "import tensorflow_addons as tfa"
      ]
    },
    {
      "cell_type": "markdown",
      "metadata": {
        "id": "qwYGfwGOP7zu"
      },
      "source": [
        "## Data loading and pre-processing"
      ]
    },
    {
      "cell_type": "code",
      "execution_count": 14,
      "metadata": {
        "id": "ScQtkQREP7zv"
      },
      "outputs": [],
      "source": [
        "import matplotlib.pyplot as plt\n",
        "import pandas as pd\n",
        "from tensorflow.keras.utils import to_categorical\n",
        "from keras.preprocessing.image import ImageDataGenerator\n",
        "import os\n",
        "import cv2\n",
        "\n",
        "basePath = ''\n",
        "train = pd.read_csv(basePath + \"sign_mnist_train.csv\")\n",
        "test = pd.read_csv(basePath + \"sign_mnist_test.csv\")\n",
        "\n",
        "# generate pictures stored path\n",
        "if not os.path.exists(basePath + \"train_pic\"):\n",
        "    os.mkdir(basePath + \"train_pic\")\n",
        "if not os.path.exists(basePath + \"test_pic\"):\n",
        "    os.mkdir(basePath + \"test_pic\")\n",
        "\n",
        "train_pic_path = basePath + \"train_pic/\"\n",
        "test_pic_path = basePath + \"test_pic/\"\n"
      ]
    },
    {
      "cell_type": "code",
      "source": [
        "# generate pictures\n",
        "for i, row in enumerate(train.to_numpy()):\n",
        "    label = row[0]\n",
        "    data = row[1:]\n",
        "    data = data.reshape((28, 28))\n",
        "    if not os.path.exists(f'{train_pic_path}{label}'):\n",
        "        os.mkdir(f'{train_pic_path}{label}')\n",
        "    if not os.path.exists(f'{train_pic_path}{label}/{i}.jpeg'):\n",
        "        cv2.imwrite(f'{train_pic_path}{label}/{i}.jpeg', data)\n",
        "\n",
        "for i, row in enumerate(test.to_numpy()):\n",
        "    label = row[0]\n",
        "    data = row[1:]\n",
        "    data = data.reshape((28, 28))\n",
        "    if not os.path.exists(f'{test_pic_path}{label}'):\n",
        "        os.mkdir(f'{test_pic_path}{label}')\n",
        "    if not os.path.exists(f'{test_pic_path}{label}/{i}.jpeg'):\n",
        "        cv2.imwrite(f'{test_pic_path}{label}/{i}.jpeg', data)\n",
        "\n",
        "y_train = train['label'].values\n",
        "x_train = train.drop(columns=['label']).to_numpy().reshape((train.shape[0], 28, 28, 1)).astype('float64')\n",
        "\n",
        "\n",
        "y_test = test['label'].values\n",
        "x_test = test.drop(columns=['label']).to_numpy().reshape((test.shape[0], 28, 28, 1)).astype('float64')\n",
        "\n",
        "x_train=np.concatenate((x_train, x_train, x_train),axis=3)\n",
        "x_test = np.concatenate((x_test, x_test, x_test), axis=3)\n",
        "print(x_train.shape)\n",
        "print(x_test.shape)\n",
        "x_train = np.pad(x_train, ((0, 0), (2,2), (2,2), (0,0)), 'constant', constant_values=0.9)\n",
        "x_test = np.pad(x_test, ((0, 0), (2,2), (2,2), (0,0)), 'constant', constant_values=0.9)\n",
        "\n",
        "print(x_train.shape)\n",
        "print(x_test.shape)\n",
        "print(y_train.shape)\n",
        "print(y_test.shape)"
      ],
      "metadata": {
        "id": "aXacWxnyxnJO",
        "colab": {
          "base_uri": "https://localhost:8080/"
        },
        "outputId": "87c79fed-b70a-4f6e-dd55-54058d337326"
      },
      "execution_count": 15,
      "outputs": [
        {
          "output_type": "stream",
          "name": "stdout",
          "text": [
            "(27455, 28, 28, 3)\n",
            "(7172, 28, 28, 3)\n",
            "(27455, 32, 32, 3)\n",
            "(7172, 32, 32, 3)\n",
            "(27455,)\n",
            "(7172,)\n"
          ]
        }
      ]
    },
    {
      "cell_type": "markdown",
      "metadata": {
        "id": "JSjRDjM-P7zv"
      },
      "source": [
        "## Hyperparameters setting"
      ]
    },
    {
      "cell_type": "code",
      "execution_count": 16,
      "metadata": {
        "id": "mN9nGQFbP7zv"
      },
      "outputs": [],
      "source": [
        "input_shape = (32, 32, 3)\n",
        "num_classes = 25\n",
        "\n",
        "num_epochs = 30\n",
        "learning_rate = 0.001\n",
        "weight_decay = 0.0001\n",
        "batch_size = 256\n",
        "image_size = 72  # We'll resize input images to this size\n",
        "patch_size = 6  # Size of the patches to be extract from the input images\n",
        "num_patches = (image_size // patch_size) ** 2\n",
        "projection_dim = 64\n",
        "num_heads = 4\n",
        "transformer_units = [\n",
        "    projection_dim * 2,\n",
        "    projection_dim,\n",
        "]  # Size of the transformer layers\n",
        "transformer_layers = 8\n",
        "mlp_head_units = [2048, 1024]  # Size of the dense layers of the final classifier\n"
      ]
    },
    {
      "cell_type": "markdown",
      "metadata": {
        "id": "B1V9c2thP7zw"
      },
      "source": [
        "## Data augmentation\n",
        "\n",
        "Apply data augmentation on images"
      ]
    },
    {
      "cell_type": "code",
      "execution_count": 17,
      "metadata": {
        "id": "W9OGijv2P7zw"
      },
      "outputs": [],
      "source": [
        "data_augmentation = keras.Sequential(\n",
        "    [\n",
        "        layers.Normalization(),\n",
        "        layers.Resizing(image_size, image_size),\n",
        "        layers.RandomFlip(\"horizontal\"),\n",
        "        layers.RandomRotation(factor=0.02),\n",
        "        layers.RandomZoom(\n",
        "            height_factor=0.2, width_factor=0.2\n",
        "        ),\n",
        "    ],\n",
        "    name=\"data_augmentation\",\n",
        ")\n",
        "# Compute the mean and the variance of the training data for normalization.\n",
        "data_augmentation.layers[0].adapt(x_train)\n"
      ]
    },
    {
      "cell_type": "markdown",
      "metadata": {
        "id": "kdIZ2HuFP7zw"
      },
      "source": [
        "## MLP"
      ]
    },
    {
      "cell_type": "code",
      "execution_count": 18,
      "metadata": {
        "id": "6qF6EaeNP7zw"
      },
      "outputs": [],
      "source": [
        "\n",
        "def mlp(x, hidden_units, dropout_rate):\n",
        "    for units in hidden_units:\n",
        "        x = layers.Dense(units, activation=tf.nn.gelu)(x)\n",
        "        x = layers.Dropout(dropout_rate)(x)\n",
        "    return x\n"
      ]
    },
    {
      "cell_type": "markdown",
      "metadata": {
        "id": "rx_of4XlP7zx"
      },
      "source": [
        "## Patch creation layer"
      ]
    },
    {
      "cell_type": "code",
      "execution_count": 19,
      "metadata": {
        "id": "fD0W5y55P7zx"
      },
      "outputs": [],
      "source": [
        "\n",
        "class Patches(layers.Layer):\n",
        "    def __init__(self, patch_size):\n",
        "        super(Patches, self).__init__()\n",
        "        self.patch_size = patch_size\n",
        "\n",
        "    def call(self, images):\n",
        "        batch_size = tf.shape(images)[0]\n",
        "        patches = tf.image.extract_patches(\n",
        "            images=images,\n",
        "            sizes=[1, self.patch_size, self.patch_size, 1],\n",
        "            strides=[1, self.patch_size, self.patch_size, 1],\n",
        "            rates=[1, 1, 1, 1],\n",
        "            padding=\"VALID\",\n",
        "        )\n",
        "        patch_dims = patches.shape[-1]\n",
        "        patches = tf.reshape(patches, [batch_size, -1, patch_dims])\n",
        "        return patches\n"
      ]
    },
    {
      "cell_type": "markdown",
      "metadata": {
        "id": "lkwrtlpDP7zx"
      },
      "source": [
        "Display patches for a sample image"
      ]
    },
    {
      "cell_type": "code",
      "execution_count": 20,
      "metadata": {
        "id": "zLZuyGPHP7zx",
        "colab": {
          "base_uri": "https://localhost:8080/",
          "height": 550
        },
        "outputId": "30cae8a0-8478-48b8-9817-6bb19c745a49"
      },
      "outputs": [
        {
          "output_type": "stream",
          "name": "stdout",
          "text": [
            "Image size: 72 X 72\n",
            "Patch size: 6 X 6\n",
            "Patches per image: 144\n",
            "Elements per patch: 108\n"
          ]
        },
        {
          "output_type": "display_data",
          "data": {
            "text/plain": [
              "<Figure size 288x288 with 1 Axes>"
            ],
            "image/png": "[encoded data removed]"
          },
          "metadata": {
            "needs_background": "light"
          }
        },
        {
          "output_type": "display_data",
          "data": {
            "text/plain": [
              "<Figure size 288x288 with 144 Axes>"
            ],
            "image/png": "[encoded data removed]"
          },
          "metadata": {
            "needs_background": "light"
          }
        }
      ],
      "source": [
        "import matplotlib.pyplot as plt\n",
        "\n",
        "plt.figure(figsize=(4, 4))\n",
        "image = x_train[np.random.choice(range(x_train.shape[0]))]\n",
        "plt.imshow(image.astype(\"uint8\"))\n",
        "plt.axis(\"off\")\n",
        "\n",
        "resized_image = tf.image.resize(\n",
        "    tf.convert_to_tensor([image]), size=(image_size, image_size)\n",
        ")\n",
        "patches = Patches(patch_size)(resized_image)\n",
        "print(f\"Image size: {image_size} X {image_size}\")\n",
        "print(f\"Patch size: {patch_size} X {patch_size}\")\n",
        "print(f\"Patches per image: {patches.shape[1]}\")\n",
        "print(f\"Elements per patch: {patches.shape[-1]}\")\n",
        "\n",
        "n = int(np.sqrt(patches.shape[1]))\n",
        "plt.figure(figsize=(4, 4))\n",
        "for i, patch in enumerate(patches[0]):\n",
        "    ax = plt.subplot(n, n, i + 1)\n",
        "    patch_img = tf.reshape(patch, (patch_size, patch_size, 3))\n",
        "    plt.imshow(patch_img.numpy().astype(\"uint8\"))\n",
        "    plt.axis(\"off\")"
      ]
    },
    {
      "cell_type": "markdown",
      "metadata": {
        "id": "Vz07YpMUP7zx"
      },
      "source": [
        "## Patch encoding layer\n"
      ]
    },
    {
      "cell_type": "code",
      "execution_count": 21,
      "metadata": {
        "id": "Ao0X1oFHP7zx"
      },
      "outputs": [],
      "source": [
        "\n",
        "class PatchEncoder(layers.Layer):\n",
        "    def __init__(self, num_patches, projection_dim):\n",
        "        super(PatchEncoder, self).__init__()\n",
        "        self.num_patches = num_patches\n",
        "        self.projection = layers.Dense(units=projection_dim)\n",
        "        self.position_embedding = layers.Embedding(\n",
        "            input_dim=num_patches, output_dim=projection_dim\n",
        "        )\n",
        "\n",
        "    def call(self, patch):\n",
        "        positions = tf.range(start=0, limit=self.num_patches, delta=1)\n",
        "        encoded = self.projection(patch) + self.position_embedding(positions)\n",
        "        return encoded\n"
      ]
    },
    {
      "cell_type": "markdown",
      "metadata": {
        "id": "XT9IEaBFP7zy"
      },
      "source": [
        "## Construct the model\n",
        "\n",
        "The ViT model that consists of multiple Transformer blocks"
      ]
    },
    {
      "cell_type": "code",
      "execution_count": 22,
      "metadata": {
        "id": "5BBX6167P7zy"
      },
      "outputs": [],
      "source": [
        "\n",
        "def create_vit_classifier():\n",
        "    inputs = layers.Input(shape=input_shape)\n",
        "    # Augment data.\n",
        "    augmented = data_augmentation(inputs)\n",
        "    # Create patches.\n",
        "    patches = Patches(patch_size)(augmented)\n",
        "    # Encode patches.\n",
        "    encoded_patches = PatchEncoder(num_patches, projection_dim)(patches)\n",
        "\n",
        "    # Create multiple layers of the Transformer block.\n",
        "    for _ in range(transformer_layers):\n",
        "        # Layer normalization 1.\n",
        "        x1 = layers.LayerNormalization(epsilon=1e-6)(encoded_patches)\n",
        "        # Create a multi-head attention layer.\n",
        "        attention_output = layers.MultiHeadAttention(\n",
        "            num_heads=num_heads, key_dim=projection_dim, dropout=0.1\n",
        "        )(x1, x1)\n",
        "        # Skip connection 1.\n",
        "        x2 = layers.Add()([attention_output, encoded_patches])\n",
        "        # Layer normalization 2.\n",
        "        x3 = layers.LayerNormalization(epsilon=1e-6)(x2)\n",
        "        # MLP.\n",
        "        x3 = mlp(x3, hidden_units=transformer_units, dropout_rate=0.1)\n",
        "        # Skip connection 2.\n",
        "        encoded_patches = layers.Add()([x3, x2])\n",
        "\n",
        "    # Create a [batch_size, projection_dim] tensor.\n",
        "    representation = layers.LayerNormalization(epsilon=1e-6)(encoded_patches)\n",
        "    representation = layers.Flatten()(representation)\n",
        "    representation = layers.Dropout(0.5)(representation)\n",
        "    # Add MLP.\n",
        "    features = mlp(representation, hidden_units=mlp_head_units, dropout_rate=0.5)\n",
        "    # Classify outputs.\n",
        "    logits = layers.Dense(num_classes)(features)\n",
        "    # Create the Keras model.\n",
        "    model = keras.Model(inputs=inputs, outputs=logits)\n",
        "    return model\n"
      ]
    },
    {
      "cell_type": "markdown",
      "metadata": {
        "id": "84JH1bO1P7zy"
      },
      "source": [
        "## Model training"
      ]
    },
    {
      "cell_type": "code",
      "execution_count": 23,
      "metadata": {
        "id": "Oju0Pq82P7zz",
        "colab": {
          "base_uri": "https://localhost:8080/"
        },
        "outputId": "9385ecf0-ec9d-41a0-9964-fc26d1280f23"
      },
      "outputs": [
        {
          "output_type": "stream",
          "name": "stdout",
          "text": [
            "Epoch 1/30\n",
            "97/97 [==============================] - 54s 396ms/step - loss: 3.0042 - accuracy: 0.1665 - top-5-accuracy: 0.4972 - val_loss: 1.7241 - val_accuracy: 0.4829 - val_top-5-accuracy: 0.9006\n",
            "Epoch 2/30\n",
            "97/97 [==============================] - 38s 388ms/step - loss: 1.7348 - accuracy: 0.4396 - top-5-accuracy: 0.8461 - val_loss: 0.7537 - val_accuracy: 0.7844 - val_top-5-accuracy: 0.9822\n",
            "Epoch 3/30\n",
            "97/97 [==============================] - 37s 385ms/step - loss: 1.0912 - accuracy: 0.6360 - top-5-accuracy: 0.9493 - val_loss: 0.3512 - val_accuracy: 0.9159 - val_top-5-accuracy: 0.9964\n",
            "Epoch 4/30\n",
            "97/97 [==============================] - 37s 386ms/step - loss: 0.7264 - accuracy: 0.7497 - top-5-accuracy: 0.9832 - val_loss: 0.1800 - val_accuracy: 0.9450 - val_top-5-accuracy: 0.9993\n",
            "Epoch 5/30\n",
            "97/97 [==============================] - 37s 386ms/step - loss: 0.5310 - accuracy: 0.8181 - top-5-accuracy: 0.9916 - val_loss: 0.1584 - val_accuracy: 0.9490 - val_top-5-accuracy: 0.9993\n",
            "Epoch 6/30\n",
            "97/97 [==============================] - 37s 385ms/step - loss: 0.4027 - accuracy: 0.8612 - top-5-accuracy: 0.9964 - val_loss: 0.0533 - val_accuracy: 0.9924 - val_top-5-accuracy: 1.0000\n",
            "Epoch 7/30\n",
            "97/97 [==============================] - 37s 386ms/step - loss: 0.3237 - accuracy: 0.8901 - top-5-accuracy: 0.9968 - val_loss: 0.0366 - val_accuracy: 0.9945 - val_top-5-accuracy: 1.0000\n",
            "Epoch 8/30\n",
            "97/97 [==============================] - 37s 386ms/step - loss: 0.2592 - accuracy: 0.9097 - top-5-accuracy: 0.9987 - val_loss: 0.0188 - val_accuracy: 0.9975 - val_top-5-accuracy: 1.0000\n",
            "Epoch 9/30\n",
            "97/97 [==============================] - 37s 386ms/step - loss: 0.2249 - accuracy: 0.9236 - top-5-accuracy: 0.9986 - val_loss: 0.0168 - val_accuracy: 0.9982 - val_top-5-accuracy: 1.0000\n",
            "Epoch 10/30\n",
            "97/97 [==============================] - 37s 385ms/step - loss: 0.1906 - accuracy: 0.9346 - top-5-accuracy: 0.9991 - val_loss: 0.0067 - val_accuracy: 0.9996 - val_top-5-accuracy: 1.0000\n",
            "Epoch 11/30\n",
            "97/97 [==============================] - 37s 378ms/step - loss: 0.1566 - accuracy: 0.9461 - top-5-accuracy: 0.9993 - val_loss: 0.0072 - val_accuracy: 0.9993 - val_top-5-accuracy: 1.0000\n",
            "Epoch 12/30\n",
            "97/97 [==============================] - 37s 379ms/step - loss: 0.1482 - accuracy: 0.9507 - top-5-accuracy: 0.9995 - val_loss: 0.0057 - val_accuracy: 0.9993 - val_top-5-accuracy: 1.0000\n",
            "Epoch 13/30\n",
            "97/97 [==============================] - 37s 387ms/step - loss: 0.1168 - accuracy: 0.9607 - top-5-accuracy: 0.9995 - val_loss: 0.0030 - val_accuracy: 1.0000 - val_top-5-accuracy: 1.0000\n",
            "Epoch 14/30\n",
            "97/97 [==============================] - 37s 378ms/step - loss: 0.1114 - accuracy: 0.9629 - top-5-accuracy: 0.9998 - val_loss: 0.0027 - val_accuracy: 0.9993 - val_top-5-accuracy: 1.0000\n",
            "Epoch 15/30\n",
            "97/97 [==============================] - 37s 379ms/step - loss: 0.1039 - accuracy: 0.9659 - top-5-accuracy: 0.9996 - val_loss: 0.0027 - val_accuracy: 0.9993 - val_top-5-accuracy: 1.0000\n",
            "Epoch 16/30\n",
            "97/97 [==============================] - 37s 378ms/step - loss: 0.1071 - accuracy: 0.9645 - top-5-accuracy: 0.9997 - val_loss: 0.0014 - val_accuracy: 1.0000 - val_top-5-accuracy: 1.0000\n",
            "Epoch 17/30\n",
            "97/97 [==============================] - 37s 378ms/step - loss: 0.0911 - accuracy: 0.9699 - top-5-accuracy: 0.9998 - val_loss: 0.0018 - val_accuracy: 1.0000 - val_top-5-accuracy: 1.0000\n",
            "Epoch 18/30\n",
            "97/97 [==============================] - 37s 379ms/step - loss: 0.0886 - accuracy: 0.9705 - top-5-accuracy: 0.9998 - val_loss: 6.3472e-04 - val_accuracy: 1.0000 - val_top-5-accuracy: 1.0000\n",
            "Epoch 19/30\n",
            "97/97 [==============================] - 37s 378ms/step - loss: 0.0763 - accuracy: 0.9741 - top-5-accuracy: 1.0000 - val_loss: 5.8995e-04 - val_accuracy: 1.0000 - val_top-5-accuracy: 1.0000\n",
            "Epoch 20/30\n",
            "97/97 [==============================] - 37s 378ms/step - loss: 0.0661 - accuracy: 0.9787 - top-5-accuracy: 0.9998 - val_loss: 3.7014e-04 - val_accuracy: 1.0000 - val_top-5-accuracy: 1.0000\n",
            "Epoch 21/30\n",
            "97/97 [==============================] - 37s 379ms/step - loss: 0.0612 - accuracy: 0.9798 - top-5-accuracy: 0.9999 - val_loss: 1.8635e-04 - val_accuracy: 1.0000 - val_top-5-accuracy: 1.0000\n",
            "Epoch 22/30\n",
            "97/97 [==============================] - 37s 378ms/step - loss: 0.0698 - accuracy: 0.9762 - top-5-accuracy: 0.9997 - val_loss: 4.6862e-04 - val_accuracy: 1.0000 - val_top-5-accuracy: 1.0000\n",
            "Epoch 23/30\n",
            "97/97 [==============================] - 37s 379ms/step - loss: 0.0650 - accuracy: 0.9792 - top-5-accuracy: 1.0000 - val_loss: 1.4062e-04 - val_accuracy: 1.0000 - val_top-5-accuracy: 1.0000\n",
            "Epoch 24/30\n",
            "97/97 [==============================] - 37s 378ms/step - loss: 0.0701 - accuracy: 0.9779 - top-5-accuracy: 0.9998 - val_loss: 3.3966e-04 - val_accuracy: 1.0000 - val_top-5-accuracy: 1.0000\n",
            "Epoch 25/30\n",
            "97/97 [==============================] - 37s 379ms/step - loss: 0.0630 - accuracy: 0.9800 - top-5-accuracy: 0.9998 - val_loss: 1.8045e-04 - val_accuracy: 1.0000 - val_top-5-accuracy: 1.0000\n",
            "Epoch 26/30\n",
            "97/97 [==============================] - 37s 378ms/step - loss: 0.0588 - accuracy: 0.9803 - top-5-accuracy: 0.9998 - val_loss: 1.3067e-04 - val_accuracy: 1.0000 - val_top-5-accuracy: 1.0000\n",
            "Epoch 27/30\n",
            "97/97 [==============================] - 37s 378ms/step - loss: 0.0619 - accuracy: 0.9798 - top-5-accuracy: 0.9998 - val_loss: 1.8575e-04 - val_accuracy: 1.0000 - val_top-5-accuracy: 1.0000\n",
            "Epoch 28/30\n",
            "97/97 [==============================] - 37s 378ms/step - loss: 0.0477 - accuracy: 0.9843 - top-5-accuracy: 1.0000 - val_loss: 3.9495e-05 - val_accuracy: 1.0000 - val_top-5-accuracy: 1.0000\n",
            "Epoch 29/30\n",
            "97/97 [==============================] - 37s 378ms/step - loss: 0.0530 - accuracy: 0.9829 - top-5-accuracy: 1.0000 - val_loss: 6.6329e-04 - val_accuracy: 1.0000 - val_top-5-accuracy: 1.0000\n",
            "Epoch 30/30\n",
            "97/97 [==============================] - 37s 378ms/step - loss: 0.0545 - accuracy: 0.9828 - top-5-accuracy: 0.9998 - val_loss: 1.4392e-04 - val_accuracy: 1.0000 - val_top-5-accuracy: 1.0000\n",
            "225/225 [==============================] - 5s 22ms/step - loss: 0.1259 - accuracy: 0.9649 - top-5-accuracy: 0.9990\n",
            "Test accuracy: 96.49%\n",
            "Test top 5 accuracy: 99.9%\n"
          ]
        }
      ],
      "source": [
        "\n",
        "def run_experiment(model):\n",
        "    optimizer = tfa.optimizers.AdamW(\n",
        "        learning_rate=learning_rate, weight_decay=weight_decay\n",
        "    )\n",
        "\n",
        "    model.compile(\n",
        "        optimizer=optimizer,\n",
        "        loss=keras.losses.SparseCategoricalCrossentropy(from_logits=True),\n",
        "        metrics=[\n",
        "            keras.metrics.SparseCategoricalAccuracy(name=\"accuracy\"),\n",
        "            keras.metrics.SparseTopKCategoricalAccuracy(5, name=\"top-5-accuracy\"),\n",
        "        ],\n",
        "    )\n",
        "\n",
        "    checkpoint_filepath = \"/tmp/checkpoint\"\n",
        "    checkpoint_callback = keras.callbacks.ModelCheckpoint(\n",
        "        checkpoint_filepath,\n",
        "        monitor=\"val_accuracy\",\n",
        "        save_best_only=True,\n",
        "        save_weights_only=True,\n",
        "    )\n",
        "\n",
        "    history = model.fit(\n",
        "        x=x_train,\n",
        "        y=y_train,\n",
        "        batch_size=batch_size,\n",
        "        epochs=num_epochs,\n",
        "        validation_split=0.1,\n",
        "        callbacks=[checkpoint_callback],\n",
        "    )\n",
        "\n",
        "    model.load_weights(checkpoint_filepath)\n",
        "    _, accuracy, top_5_accuracy = model.evaluate(x_test, y_test)\n",
        "    print(f\"Test accuracy: {round(accuracy * 100, 2)}%\")\n",
        "    print(f\"Test top 5 accuracy: {round(top_5_accuracy * 100, 2)}%\")\n",
        "\n",
        "    return history\n",
        "\n",
        "\n",
        "vit_classifier = create_vit_classifier()\n",
        "history = run_experiment(vit_classifier)\n"
      ]
    },
    {
      "cell_type": "markdown",
      "metadata": {
        "id": "YPGJiFbSP7zz"
      },
      "source": [
        "## Evaluation results\n",
        "After 6 epochs, the ViT model achieves validation accuracy around 99.2% and top-5 accuracy 100%. \n",
        "\n",
        "On the test data the accuracy is 96.49% and the top 5 accuracy is 99.9% after 30 epochs. \n"
      ]
    },
    {
      "cell_type": "code",
      "source": [
        "def plot_model_history(history):\n",
        "  plt.plot(history.history['accuracy'])\n",
        "  plt.plot(history.history['val_accuracy'])\n",
        "  plt.title('Accuracy')\n",
        "  plt.ylabel('Accuracy')\n",
        "  plt.xlabel('epoch')\n",
        "  plt.legend(['train', 'validation'], loc='upper left')\n",
        "  plt.show()\n",
        "\n",
        "  plt.plot(history.history['top-5-accuracy'])\n",
        "  plt.plot(history.history['val_top-5-accuracy'])\n",
        "  plt.title('Top 5 Accuracy')\n",
        "  plt.ylabel('Accuracy')\n",
        "  plt.xlabel('epoch')\n",
        "  plt.legend(['train', 'validation'], loc='upper left')\n",
        "  plt.show()\n",
        "  # loss\n",
        "  plt.plot(history.history['loss'])\n",
        "  plt.plot(history.history['val_loss'])\n",
        "  plt.title('Loss')\n",
        "  plt.ylabel('Loss')\n",
        "  plt.xlabel('epoch')\n",
        "  plt.legend(['train', 'validation'], loc='upper left')\n",
        "  plt.show()\n",
        "\n",
        "\n",
        "plot_model_history(history)"
      ],
      "metadata": {
        "id": "uqBQvUgpsh-b",
        "colab": {
          "base_uri": "https://localhost:8080/",
          "height": 851
        },
        "outputId": "edeca2c2-ffb8-4128-d142-48369ba69716"
      },
      "execution_count": 24,
      "outputs": [
        {
          "output_type": "display_data",
          "data": {
            "text/plain": [
              "<Figure size 432x288 with 1 Axes>"
            ],
            "image/png": "[encoded data removed]"
          },
          "metadata": {
            "needs_background": "light"
          }
        },
        {
          "output_type": "display_data",
          "data": {
            "text/plain": [
              "<Figure size 432x288 with 1 Axes>"
            ],
            "image/png": "[encoded data removed]"
          },
          "metadata": {
            "needs_background": "light"
          }
        },
        {
          "output_type": "display_data",
          "data": {
            "text/plain": [
              "<Figure size 432x288 with 1 Axes>"
            ],
            "image/png": "[encoded data removed]"
          },
          "metadata": {
            "needs_background": "light"
          }
        }
      ]
    }
  ],
  "metadata": {
    "colab": {
      "collapsed_sections": [],
      "name": "ASL_transformer",
      "provenance": [],
      "toc_visible": true
    },
    "environment": {
      "name": "tf2-gpu.2-4.m61",
      "type": "gcloud",
      "uri": "gcr.io/deeplearning-platform-release/tf2-gpu.2-4:m61"
    },
    "kernelspec": {
      "display_name": "Python 3",
      "language": "python",
      "name": "python3"
    },
    "language_info": {
      "codemirror_mode": {
        "name": "ipython",
        "version": 3
      },
      "file_extension": ".py",
      "mimetype": "text/x-python",
      "name": "python",
      "nbconvert_exporter": "python",
      "pygments_lexer": "ipython3",
      "version": "3.7.9"
    },
    "accelerator": "GPU"
  },
  "nbformat": 4,
  "nbformat_minor": 0
}